{
 "cells": [
  {
   "cell_type": "markdown",
   "id": "395d32a7",
   "metadata": {},
   "source": [
    "# Построение доверительного интервала для стандартного отклонения случайно сгенерированной выборки"
   ]
  },
  {
   "cell_type": "code",
   "execution_count": 28,
   "id": "9a3b8084",
   "metadata": {},
   "outputs": [],
   "source": [
    "import numpy as np\n",
    "import pandas as pd"
   ]
  },
  {
   "cell_type": "code",
   "execution_count": 29,
   "id": "b3f9fc43",
   "metadata": {},
   "outputs": [
    {
     "name": "stdout",
     "output_type": "stream",
     "text": [
      "Requirement already satisfied: arch in /Users/julia/opt/anaconda3/lib/python3.9/site-packages (6.2.0)\n",
      "Requirement already satisfied: scipy>=1.5 in /Users/julia/opt/anaconda3/lib/python3.9/site-packages (from arch) (1.9.1)\n",
      "Requirement already satisfied: numpy>=1.19 in /Users/julia/opt/anaconda3/lib/python3.9/site-packages (from arch) (1.21.5)\n",
      "Requirement already satisfied: pandas>=1.1 in /Users/julia/opt/anaconda3/lib/python3.9/site-packages (from arch) (1.4.4)\n",
      "Requirement already satisfied: statsmodels>=0.12 in /Users/julia/opt/anaconda3/lib/python3.9/site-packages (from arch) (0.13.2)\n",
      "Requirement already satisfied: python-dateutil>=2.8.1 in /Users/julia/opt/anaconda3/lib/python3.9/site-packages (from pandas>=1.1->arch) (2.8.2)\n",
      "Requirement already satisfied: pytz>=2020.1 in /Users/julia/opt/anaconda3/lib/python3.9/site-packages (from pandas>=1.1->arch) (2022.1)\n",
      "Requirement already satisfied: packaging>=21.3 in /Users/julia/opt/anaconda3/lib/python3.9/site-packages (from statsmodels>=0.12->arch) (21.3)\n",
      "Requirement already satisfied: patsy>=0.5.2 in /Users/julia/opt/anaconda3/lib/python3.9/site-packages (from statsmodels>=0.12->arch) (0.5.2)\n",
      "Requirement already satisfied: pyparsing!=3.0.5,>=2.0.2 in /Users/julia/opt/anaconda3/lib/python3.9/site-packages (from packaging>=21.3->statsmodels>=0.12->arch) (3.0.9)\n",
      "Requirement already satisfied: six in /Users/julia/opt/anaconda3/lib/python3.9/site-packages (from patsy>=0.5.2->statsmodels>=0.12->arch) (1.16.0)\n"
     ]
    }
   ],
   "source": [
    "!pip install arch"
   ]
  },
  {
   "cell_type": "code",
   "execution_count": 30,
   "id": "d215c16c",
   "metadata": {},
   "outputs": [],
   "source": [
    "from arch.bootstrap import IIDBootstrap, IndependentSamplesBootstrap"
   ]
  },
  {
   "cell_type": "markdown",
   "id": "b1401146",
   "metadata": {},
   "source": [
    "Генерируем выборку:"
   ]
  },
  {
   "cell_type": "code",
   "execution_count": 31,
   "id": "f645af3a",
   "metadata": {},
   "outputs": [],
   "source": [
    "rng = np.random.default_rng(33)\n",
    "x = rng.normal(loc=0, scale=1, size=200)"
   ]
  },
  {
   "cell_type": "code",
   "execution_count": 32,
   "id": "d13ba512",
   "metadata": {},
   "outputs": [],
   "source": [
    "mu_std = np.std(x)"
   ]
  },
  {
   "cell_type": "markdown",
   "id": "ca403bdc",
   "metadata": {},
   "source": [
    "Выборочная оценка выборки:"
   ]
  },
  {
   "cell_type": "code",
   "execution_count": 33,
   "id": "c5a637c6",
   "metadata": {},
   "outputs": [
    {
     "data": {
      "text/plain": [
       "0.9570811921659582"
      ]
     },
     "execution_count": 33,
     "metadata": {},
     "output_type": "execute_result"
    }
   ],
   "source": [
    "mu_std"
   ]
  },
  {
   "cell_type": "code",
   "execution_count": 34,
   "id": "39ff5b0f",
   "metadata": {},
   "outputs": [],
   "source": [
    "n_boot = 1000\n",
    "mu_std_star = [np.std(rng.choice(x, size=len(x))) for i in range(n_boot)]"
   ]
  },
  {
   "cell_type": "markdown",
   "id": "4de454c2",
   "metadata": {},
   "source": [
    "Наивный бутстрэп доверительный интервал"
   ]
  },
  {
   "cell_type": "code",
   "execution_count": 35,
   "id": "360b1156",
   "metadata": {},
   "outputs": [
    {
     "data": {
      "text/plain": [
       "[0.8638561271013581, 1.045188592681031]"
      ]
     },
     "execution_count": 35,
     "metadata": {},
     "output_type": "execute_result"
    }
   ],
   "source": [
    "[np.quantile(mu_std_star, 0.025), np.quantile(mu_std_star, 0.975)]"
   ]
  },
  {
   "cell_type": "code",
   "execution_count": 36,
   "id": "9394f83a",
   "metadata": {},
   "outputs": [
    {
     "data": {
      "text/plain": [
       "array([[0.86320116],\n",
       "       [1.04625388]])"
      ]
     },
     "execution_count": 36,
     "metadata": {},
     "output_type": "execute_result"
    }
   ],
   "source": [
    "boot_x = IIDBootstrap(x, seed=33)\n",
    "boot_x.conf_int(np.std, method='percentile', reps=10000, size=0.95)"
   ]
  }
 ],
 "metadata": {
  "kernelspec": {
   "display_name": "Python 3 (ipykernel)",
   "language": "python",
   "name": "python3"
  },
  "language_info": {
   "codemirror_mode": {
    "name": "ipython",
    "version": 3
   },
   "file_extension": ".py",
   "mimetype": "text/x-python",
   "name": "python",
   "nbconvert_exporter": "python",
   "pygments_lexer": "ipython3",
   "version": "3.9.13"
  },
  "toc": {
   "base_numbering": 1,
   "nav_menu": {},
   "number_sections": true,
   "sideBar": true,
   "skip_h1_title": false,
   "title_cell": "Table of Contents",
   "title_sidebar": "Contents",
   "toc_cell": false,
   "toc_position": {},
   "toc_section_display": true,
   "toc_window_display": false
  }
 },
 "nbformat": 4,
 "nbformat_minor": 5
}
